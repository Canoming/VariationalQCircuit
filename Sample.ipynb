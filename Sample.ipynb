{
 "cells": [
  {
   "cell_type": "code",
   "execution_count": 1,
   "metadata": {},
   "outputs": [],
   "source": [
    "from variational_circuit.varicirc import *\n",
    "from variational_circuit.measure import *\n",
    "from scipy.optimize import minimize\n",
    "from time import time\n",
    "\n",
    "from qutip.random_objects import rand_ket\n",
    "from qutip.qip.qubits import qubit_states\n",
    "from qutip.tensor import tensor"
   ]
  },
  {
   "cell_type": "code",
   "execution_count": 2,
   "metadata": {},
   "outputs": [],
   "source": [
    "N = 4 # number of qubits\n",
    "n = 2 # number of reduced qubits\n",
    "\n",
    "# Random inputs (qubit state)\n",
    "Input = rand_ket(2**N,dims=[[2]*N,[1]*N])\n",
    "# Reference State\n",
    "r_state = qubit_states(n)"
   ]
  },
  {
   "cell_type": "code",
   "execution_count": 3,
   "metadata": {},
   "outputs": [],
   "source": [
    "def test_ptest(x):\n",
    "    vc1.update_ansatzes(x)\n",
    "    return 1-qcirc_test(Input,vc1.qc,[[0,1],[2,3]],test_func=sep_purity)\n",
    "\n",
    "def test_phase2(x):\n",
    "    vc11.update_ansatzes(x)\n",
    "    return 1-qcirc_test(state2,vc11.qc,r_state,test_func=fid_ref)\n",
    "\n",
    "def test_qdr(x):\n",
    "    vc2.update_ansatzes(x)\n",
    "    return 1-qcirc_test(Input,vc2.qc,r_state,[2,3],test_func=fid_ref)\n",
    "\n",
    "def test_entropy(x):\n",
    "    vc3.update_ansatzes(x)\n",
    "    return qcirc_test(Input,vc3.qc,[2,3],test_func=c_entropy)"
   ]
  },
  {
   "cell_type": "code",
   "execution_count": 4,
   "metadata": {},
   "outputs": [
    {
     "name": "stdout",
     "output_type": "stream",
     "text": [
      "disentangling\n",
      "L= 1 Result= 0.6132630034952536 Iteration time= 16 Time= 32.447409868240356 seconds\n",
      "L= 2 Result= 0.0328622887061375 Iteration time= 38 Time= 261.6378073692322 seconds\n",
      "L= 3 Result= 4.474198789239381e-14 Iteration time= 46 Time= 858.0398941040039 seconds\n",
      "The second phase\n",
      "L= 1 Result= 0.07633017106406759 Iteration time= 5 Time= 2.360589027404785 seconds\n",
      "L= 2 Result= 6.328271240363392e-15 Iteration time= 24 Time= 47.83451557159424 seconds\n",
      "result fidelity is 1.0000000419816581\n"
     ]
    }
   ],
   "source": [
    "print(\"disentangling\")\n",
    "vc1 = vcirc(N)\n",
    "\n",
    "for L in np.arange(1,5):    # number of ansatz\n",
    "    vc1.add_ansatz(np.zeros(N*3)) # add one layer\n",
    "    t0 = time()\n",
    "    x0 = np.zeros(N*3*L) # init parameters\n",
    "\n",
    "    res = minimize(test_ptest,x0,method='powell')\n",
    "    print(\"L=\",L,\"Result=\",res.fun,\"Iteration time=\",res.nit,\"Time=\",time()-t0,\"seconds\")\n",
    "    if res.fun < 1e-5:\n",
    "        break\n",
    "    \n",
    "print(\"The second phase\")\n",
    "vc11 = vcirc(n)\n",
    "\n",
    "prop = gate_sequence_product(vc1.qc.propagators())\n",
    "out = prop*Input\n",
    "state2 = out.ptrace([2,3])\n",
    "\n",
    "for L in np.arange(1,5):\n",
    "    vc11.add_ansatz(np.zeros(n*3)) # add one layer\n",
    "    t0 = time()\n",
    "    x0 = np.zeros(n*3*L) # init parameters\n",
    "\n",
    "    res = minimize(test_phase2,x0,method='powell')\n",
    "    print(\"L=\",L,\"Result=\",res.fun,\"Iteration time=\",res.nit,\"Time=\",time()-t0,\"seconds\")\n",
    "    if res.fun < 1e-5:\n",
    "        break\n",
    "\n",
    "prop2 = gate_sequence_product(vc11.qc.propagators())\n",
    "out2 = prop2*state2*prop2.dag()\n",
    "final = tensor(out.ptrace([0,1]),out2)\n",
    "\n",
    "print(\"result fidelity is\",fidelity(final,tensor(out.ptrace([0,1]),r_state*r_state.dag())))\n"
   ]
  },
  {
   "cell_type": "code",
   "execution_count": 5,
   "metadata": {},
   "outputs": [
    {
     "name": "stdout",
     "output_type": "stream",
     "text": [
      "original dimensionality reduction\n",
      "L= 1 Result= 0.3220938461609555 Iteration time= 4 Time= 11.603367328643799 seconds\n",
      "L= 2 Result= 0.12483250391423206 Iteration time= 17 Time= 126.32871270179749 seconds\n",
      "L= 3 Result= 0.0026711086915088833 Iteration time= 79 Time= 1219.6830115318298 seconds\n",
      "L= 4 Result= 1.2212453270876722e-15 Iteration time= 50 Time= 1667.0333693027496 seconds\n",
      "result fidelity is 1.0000000159676705\n"
     ]
    }
   ],
   "source": [
    "print(\"original dimensionality reduction\")\n",
    "vc2 = vcirc(N)\n",
    "\n",
    "for L in np.arange(1,5):    # number of ansatz\n",
    "    vc2.add_ansatz(np.zeros(N*3)) # add one layer\n",
    "    t0 = time()\n",
    "    x0 = np.zeros(N*3*L) # init parameters\n",
    "\n",
    "    res = minimize(test_qdr,x0,method='powell')\n",
    "    print(\"L=\",L,\"Result=\",res.fun,\"Iteration time=\",res.nit,\"Time=\",time()-t0,\"seconds\")\n",
    "    if res.fun < 1e-5:\n",
    "        break\n",
    "prop = gate_sequence_product(vc2.qc.propagators())\n",
    "out = prop*Input\n",
    "\n",
    "print(\"result fidelity is\",fidelity(tensor(out.ptrace([0,1]),r_state*r_state.dag()),out))"
   ]
  },
  {
   "cell_type": "code",
   "execution_count": 7,
   "metadata": {},
   "outputs": [
    {
     "name": "stdout",
     "output_type": "stream",
     "text": [
      "dimensionality reduction with arbitary classical state\n",
      "L= 1 Result= 1.7324341094770297 Iteration time= 10 Time= 19.77413558959961 seconds\n",
      "L= 2 Result= 1.1126691747942756 Iteration time= 20 Time= 134.587060213089 seconds\n",
      "L= 3 Result= 0.05635865332248012 Iteration time= 69 Time= 1160.5224804878235 seconds\n",
      "L= 4 Result= 2.5873544499925533e-21 Iteration time= 57 Time= 1901.2858355045319 seconds\n",
      "The ref state is Quantum object: dims = [[2, 2], [2, 2]], shape = (4, 4), type = oper, isherm = True\n",
      "Qobj data =\n",
      "[[ 7.88899492e-24+0.00000000e+00j  0.00000000e+00+1.52289276e-24j\n",
      "   1.31280379e-12+2.81635180e-13j -3.39002734e-24-8.16881258e-24j]\n",
      " [ 0.00000000e+00-1.52289276e-24j  3.49745536e-24+0.00000000e+00j\n",
      "  -2.80321775e-13-1.33613793e-13j -3.66973134e-24+3.38209748e-24j]\n",
      " [ 1.31280379e-12-2.81635180e-13j -2.80321775e-13+1.33613793e-13j\n",
      "   1.00000000e+00+0.00000000e+00j -6.47246563e-13+8.37680479e-13j]\n",
      " [-3.39002734e-24+8.16881258e-24j -3.66973134e-24-3.38209748e-24j\n",
      "  -6.47246563e-13-8.37680479e-13j  2.27333779e-23+0.00000000e+00j]]\n",
      "result fidelity is 1.0000004537344915\n"
     ]
    }
   ],
   "source": [
    "print(\"dimensionality reduction with arbitary classical state\")\n",
    "vc3 = vcirc(N)\n",
    "\n",
    "for L in np.arange(1,5):    # number of ansatz\n",
    "    vc3.add_ansatz(np.zeros(N*3)) # add one layer\n",
    "    t0 = time()\n",
    "    x0 = np.zeros(N*3*L) # init parameters\n",
    "\n",
    "    res = minimize(test_entropy,x0,method='powell')\n",
    "    print(\"L=\",L,\"Result=\",res.fun,\"Iteration time=\",res.nit,\"Time=\",time()-t0,\"seconds\")\n",
    "    if res.fun < 1e-5:\n",
    "        break\n",
    "prop = gate_sequence_product(vc3.qc.propagators())\n",
    "out = prop*Input\n",
    "conv_ref = out.ptrace([2,3])\n",
    "print(\"The ref state is\",conv_ref)\n",
    "print(\"result fidelity is\",fidelity(tensor(out.ptrace([0,1]),conv_ref),out))"
   ]
  },
  {
   "cell_type": "code",
   "execution_count": null,
   "metadata": {},
   "outputs": [],
   "source": []
  }
 ],
 "metadata": {
  "file_extension": ".py",
  "kernelspec": {
   "display_name": "Python 3.7.4 64-bit ('qutip': conda)",
   "language": "python",
   "name": "python37464bitqutipconda38a91f54f90647b1a1e481d5ca8c392b"
  },
  "language_info": {
   "codemirror_mode": {
    "name": "ipython",
    "version": 3
   },
   "file_extension": ".py",
   "mimetype": "text/x-python",
   "name": "python",
   "nbconvert_exporter": "python",
   "pygments_lexer": "ipython3",
   "version": "3.7.4"
  },
  "mimetype": "text/x-python",
  "name": "python",
  "npconvert_exporter": "python",
  "pygments_lexer": "ipython3",
  "version": 3
 },
 "nbformat": 4,
 "nbformat_minor": 4
}